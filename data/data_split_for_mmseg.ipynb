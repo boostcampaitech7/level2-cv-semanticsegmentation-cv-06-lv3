{
 "cells": [
  {
   "cell_type": "code",
   "execution_count": 1,
   "metadata": {},
   "outputs": [
    {
     "name": "stderr",
     "output_type": "stream",
     "text": [
      "/opt/conda/lib/python3.10/site-packages/tqdm/auto.py:21: TqdmWarning: IProgress not found. Please update jupyter and ipywidgets. See https://ipywidgets.readthedocs.io/en/stable/user_install.html\n",
      "  from .autonotebook import tqdm as notebook_tqdm\n",
      "/opt/conda/lib/python3.10/site-packages/albumentations/__init__.py:13: UserWarning: A new version of Albumentations is available: 1.4.21 (you have 1.4.18). Upgrade using: pip install -U albumentations. To disable automatic update checks, set the environment variable NO_ALBUMENTATIONS_UPDATE to 1.\n",
      "  check_for_updates()\n"
     ]
    }
   ],
   "source": [
    "# python native\n",
    "import os\n",
    "import json\n",
    "import random\n",
    "import datetime\n",
    "from functools import partial\n",
    "\n",
    "# external library\n",
    "import cv2\n",
    "import numpy as np\n",
    "import pandas as pd\n",
    "from tqdm.auto import tqdm\n",
    "from sklearn.model_selection import GroupKFold\n",
    "import albumentations as A\n",
    "\n",
    "# torch\n",
    "import torch\n",
    "import torch.nn as nn\n",
    "import torch.nn.functional as F\n",
    "import torch.optim as optim\n",
    "from torch.utils.data import Dataset, DataLoader\n",
    "from torchvision import models\n",
    "\n",
    "# visualization\n",
    "import matplotlib.pyplot as plt"
   ]
  },
  {
   "cell_type": "code",
   "execution_count": 2,
   "metadata": {},
   "outputs": [],
   "source": [
    "IMAGE_ROOT = \"./train/DCM\"\n",
    "LABEL_ROOT = \"./train/outputs_json\"\n",
    "\n"
   ]
  },
  {
   "cell_type": "code",
   "execution_count": 3,
   "metadata": {},
   "outputs": [],
   "source": [
    "CLASSES = [\n",
    "    'finger-1', 'finger-2', 'finger-3', 'finger-4', 'finger-5',\n",
    "    'finger-6', 'finger-7', 'finger-8', 'finger-9', 'finger-10',\n",
    "    'finger-11', 'finger-12', 'finger-13', 'finger-14', 'finger-15',\n",
    "    'finger-16', 'finger-17', 'finger-18', 'finger-19', 'Trapezium',\n",
    "    'Trapezoid', 'Capitate', 'Hamate', 'Scaphoid', 'Lunate',\n",
    "    'Triquetrum', 'Pisiform', 'Radius', 'Ulna',\n",
    "]"
   ]
  },
  {
   "cell_type": "code",
   "execution_count": 4,
   "metadata": {},
   "outputs": [],
   "source": [
    "CLASS2IND = {v: i for i, v in enumerate(CLASSES)}\n",
    "IND2CLASS = {v: k for k, v in CLASS2IND.items()}"
   ]
  },
  {
   "cell_type": "code",
   "execution_count": 5,
   "metadata": {},
   "outputs": [],
   "source": [
    "pngs = {\n",
    "    os.path.relpath(os.path.join(root, fname), start=IMAGE_ROOT)\n",
    "    for root, _dirs, files in os.walk(IMAGE_ROOT)\n",
    "    for fname in files\n",
    "    if os.path.splitext(fname)[1].lower() == \".png\"\n",
    "}"
   ]
  },
  {
   "cell_type": "code",
   "execution_count": 6,
   "metadata": {},
   "outputs": [],
   "source": [
    "jsons = {\n",
    "    os.path.relpath(os.path.join(root, fname), start=LABEL_ROOT)\n",
    "    for root, _dirs, files in os.walk(LABEL_ROOT)\n",
    "    for fname in files\n",
    "    if os.path.splitext(fname)[1].lower() == \".json\"\n",
    "}"
   ]
  },
  {
   "cell_type": "code",
   "execution_count": 7,
   "metadata": {},
   "outputs": [],
   "source": [
    "jsons_fn_prefix = {os.path.splitext(fname)[0] for fname in jsons}\n",
    "pngs_fn_prefix = {os.path.splitext(fname)[0] for fname in pngs}\n",
    "\n",
    "assert len(jsons_fn_prefix - pngs_fn_prefix) == 0\n",
    "assert len(pngs_fn_prefix - jsons_fn_prefix) == 0"
   ]
  },
  {
   "cell_type": "code",
   "execution_count": 8,
   "metadata": {},
   "outputs": [],
   "source": [
    "pngs = sorted(pngs)\n",
    "jsons = sorted(jsons)"
   ]
  },
  {
   "cell_type": "code",
   "execution_count": 9,
   "metadata": {},
   "outputs": [],
   "source": [
    "_filenames = np.array(pngs)\n",
    "_labelnames = np.array(jsons)"
   ]
  },
  {
   "cell_type": "code",
   "execution_count": 10,
   "metadata": {},
   "outputs": [],
   "source": [
    "groups = [os.path.dirname(fname) for fname in _filenames]\n",
    "ys = [0 for fname in _filenames]"
   ]
  },
  {
   "cell_type": "markdown",
   "metadata": {},
   "source": [
    "## seed가 없다..."
   ]
  },
  {
   "cell_type": "code",
   "execution_count": 11,
   "metadata": {},
   "outputs": [],
   "source": [
    "gkf = GroupKFold(n_splits=5)"
   ]
  },
  {
   "cell_type": "markdown",
   "metadata": {},
   "source": [
    "## fold 설정 "
   ]
  },
  {
   "cell_type": "code",
   "execution_count": 12,
   "metadata": {},
   "outputs": [],
   "source": [
    "SAVE_ROOT = './'"
   ]
  },
  {
   "cell_type": "code",
   "execution_count": 13,
   "metadata": {},
   "outputs": [
    {
     "data": {
      "text/plain": [
       "('ID001/image1661130828152_R', '.png')"
      ]
     },
     "execution_count": 13,
     "metadata": {},
     "output_type": "execute_result"
    }
   ],
   "source": [
    "os.path.splitext(_filenames[0])"
   ]
  },
  {
   "cell_type": "code",
   "execution_count": 14,
   "metadata": {},
   "outputs": [
    {
     "data": {
      "text/plain": [
       "'ID001_image1661130828152_R.png'"
      ]
     },
     "execution_count": 14,
     "metadata": {},
     "output_type": "execute_result"
    }
   ],
   "source": [
    "'_'.join(_filenames[0].split('/'))"
   ]
  },
  {
   "cell_type": "code",
   "execution_count": 15,
   "metadata": {},
   "outputs": [],
   "source": [
    "from tqdm import tqdm"
   ]
  },
  {
   "cell_type": "code",
   "execution_count": 16,
   "metadata": {},
   "outputs": [],
   "source": [
    "# # filenames = []\n",
    "# # labelnames = []\n",
    "# for i, (x, y) in enumerate(gkf.split(_filenames, ys, groups)):\n",
    "#     fold_dir = os.path.join(SAVE_ROOT, f\"fold_{i}\")\n",
    "#     os.makedirs(fold_dir, exist_ok=True)\n",
    "\n",
    "#     image_dir = os.path.join(fold_dir,'images')\n",
    "#     annos_dir = os.path.join(fold_dir,'annos')\n",
    "#     os.makedirs(image_dir, exist_ok=True)\n",
    "#     os.makedirs(annos_dir, exist_ok=True)\n",
    "\n",
    "\n",
    "\n",
    "#     filenames = list(_filenames[y])\n",
    "#     labelnames = list(_labelnames[y])\n",
    "\n",
    "#     for image_name, label_name in tqdm(zip(filenames, labelnames)):\n",
    "#         image_path = os.path.join(IMAGE_ROOT, image_name)\n",
    "#         image = cv2.imread(image_path) / 255.0  # Normalize to [0, 1]\n",
    "  \n",
    "#         label_path = os.path.join(LABEL_ROOT, label_name)\n",
    "        \n",
    "#         # label_shape = tuple(image.shape[:2]) + (len(CLASSES),)\n",
    "#         # label = np.zeros(label_shape, dtype=np.uint8)\n",
    "\n",
    "\n",
    "#         with open(label_path, \"r\") as f:\n",
    "#             annotations = json.load(f)[\"annotations\"]\n",
    "        \n",
    "        \n",
    "#         label_shape = tuple(image.shape[:2]) + (len(CLASSES),)\n",
    "#         label = np.zeros(label_shape, dtype=np.uint8)\n",
    "\n",
    "\n",
    "#         for ann in annotations:\n",
    "#             c = ann[\"label\"]\n",
    "#             class_ind = CLASS2IND[c]\n",
    "#             points = np.array(ann[\"points\"])\n",
    "            \n",
    "#             class_label = np.zeros(image.shape[:2], dtype=np.uint8)\n",
    "#             cv2.fillPoly(class_label, [points], 1)\n",
    "#             label[..., class_ind] = class_label\n",
    "\n",
    "#         image = torch.from_numpy(image.transpose(2, 0, 1)).float()\n",
    "#         label = torch.from_numpy(label.transpose(2, 0, 1)).float()\n",
    "\n",
    "#         torch.save(image, os.path.join(image_dir, f\"{os.path.splitext('_'.join(image_name.split('/')))[0]}.pt\"))\n",
    "#         torch.save(label, os.path.join(annos_dir, f\"{os.path.splitext('_'.join(label_name.split('/')))[0]}.pt\"))\n"
   ]
  },
  {
   "cell_type": "code",
   "execution_count": null,
   "metadata": {},
   "outputs": [
    {
     "name": "stderr",
     "output_type": "stream",
     "text": [
      "0it [00:00, ?it/s]"
     ]
    },
    {
     "name": "stderr",
     "output_type": "stream",
     "text": [
      "160it [00:42,  3.75it/s]\n",
      "160it [00:43,  3.71it/s]\n",
      "160it [00:42,  3.80it/s]\n",
      "160it [00:43,  3.70it/s]\n",
      "160it [00:43,  3.69it/s]\n"
     ]
    }
   ],
   "source": [
    "for i, (x, y) in enumerate(gkf.split(_filenames, ys, groups)):\n",
    "\n",
    "    if i==0:\n",
    "        fold_dir = os.path.join(SAVE_ROOT, f\"fold_{1}\")\n",
    "        os.makedirs(fold_dir, exist_ok=True)\n",
    "    else:\n",
    "        fold_dir = os.path.join(SAVE_ROOT, f\"fold_{0}\")\n",
    "        os.makedirs(fold_dir, exist_ok=True)\n",
    "\n",
    "    image_dir = os.path.join(fold_dir, 'images')\n",
    "    annos_dir = os.path.join(fold_dir, 'annos')\n",
    "    os.makedirs(image_dir, exist_ok=True)\n",
    "    os.makedirs(annos_dir, exist_ok=True)\n",
    "\n",
    "    filenames = list(_filenames[y])\n",
    "    labelnames = list(_labelnames[y])\n",
    "\n",
    "    for image_name, label_name in tqdm(zip(filenames, labelnames)):\n",
    "        # Load image and label without any processing\n",
    "        image_path = os.path.join(IMAGE_ROOT, image_name)\n",
    "        image = cv2.imread(image_path)  # Do not normalize\n",
    "\n",
    "\n",
    "        output_image_path = os.path.join(image_dir, f\"{os.path.splitext('_'.join(image_name.split('/')))[0]}.png\")\n",
    "        cv2.imwrite(output_image_path, image)\n",
    "\n",
    "        label_path = os.path.join(LABEL_ROOT, label_name)\n",
    "        with open(label_path, \"r\") as f:\n",
    "            label = json.load(f)  # Do not convert to numpy array\n",
    "\n",
    "        output_label_path = os.path.join(annos_dir, f\"{os.path.splitext('_'.join(label_name.split('/')))[0]}.json\")\n",
    "        with open(output_label_path, 'w') as f:\n",
    "            json.dump(label, f)\n"
   ]
  },
  {
   "cell_type": "code",
   "execution_count": 25,
   "metadata": {},
   "outputs": [
    {
     "data": {
      "text/plain": [
       "'ID001_image1661130828152_R'"
      ]
     },
     "execution_count": 25,
     "metadata": {},
     "output_type": "execute_result"
    }
   ],
   "source": [
    "os.path.splitext('_'.join(_filenames[0].split('/')))[0]"
   ]
  },
  {
   "cell_type": "code",
   "execution_count": 26,
   "metadata": {},
   "outputs": [
    {
     "data": {
      "text/plain": [
       "'ID001/image1661130828152_R.json'"
      ]
     },
     "execution_count": 26,
     "metadata": {},
     "output_type": "execute_result"
    }
   ],
   "source": [
    "_labelnames[0]"
   ]
  },
  {
   "cell_type": "code",
   "execution_count": null,
   "metadata": {},
   "outputs": [],
   "source": []
  }
 ],
 "metadata": {
  "kernelspec": {
   "display_name": "base",
   "language": "python",
   "name": "python3"
  },
  "language_info": {
   "codemirror_mode": {
    "name": "ipython",
    "version": 3
   },
   "file_extension": ".py",
   "mimetype": "text/x-python",
   "name": "python",
   "nbconvert_exporter": "python",
   "pygments_lexer": "ipython3",
   "version": "3.10.13"
  }
 },
 "nbformat": 4,
 "nbformat_minor": 2
}
