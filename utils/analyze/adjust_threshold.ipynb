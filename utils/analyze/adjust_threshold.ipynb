{
 "cells": [
  {
   "cell_type": "code",
   "execution_count": null,
   "metadata": {},
   "outputs": [],
   "source": [
    "# python native\n",
    "import os\n",
    "import json\n",
    "import random\n",
    "import datetime\n",
    "from functools import partial\n",
    "\n",
    "# external library\n",
    "import cv2\n",
    "import numpy as np\n",
    "import pandas as pd\n",
    "from tqdm.auto import tqdm\n",
    "from sklearn.model_selection import GroupKFold\n",
    "\n",
    "# visualization\n",
    "import matplotlib.pyplot as plt\n",
    "\n",
    "# torch\n",
    "import torch"
   ]
  },
  {
   "cell_type": "markdown",
   "metadata": {},
   "source": [
    "## Image Path Setting"
   ]
  },
  {
   "cell_type": "code",
   "execution_count": null,
   "metadata": {},
   "outputs": [],
   "source": [
    "IMAGE_ROOT = \"/data/ephemeral/data/train/DCM\"\n",
    "LABEL_ROOT = \"/data/ephemeral/data/train/outputs_json\""
   ]
  },
  {
   "cell_type": "markdown",
   "metadata": {},
   "source": [
    "## Load Dataset"
   ]
  },
  {
   "cell_type": "code",
   "execution_count": null,
   "metadata": {},
   "outputs": [],
   "source": [
    "CLASSES = [\n",
    "    'finger-1', 'finger-2', 'finger-3', 'finger-4', 'finger-5',\n",
    "    'finger-6', 'finger-7', 'finger-8', 'finger-9', 'finger-10',\n",
    "    'finger-11', 'finger-12', 'finger-13', 'finger-14', 'finger-15',\n",
    "    'finger-16', 'finger-17', 'finger-18', 'finger-19', 'Trapezium',\n",
    "    'Trapezoid', 'Capitate', 'Hamate', 'Scaphoid', 'Lunate',\n",
    "    'Triquetrum', 'Pisiform', 'Radius', 'Ulna',\n",
    "]\n",
    "CLASS2IND = {v: i for i, v in enumerate(CLASSES)}\n",
    "IND2CLASS = {v: k for k, v in CLASS2IND.items()}\n",
    "\n",
    "pngs = {\n",
    "    os.path.relpath(os.path.join(root, fname), start=IMAGE_ROOT)\n",
    "    for root, _dirs, files in os.walk(IMAGE_ROOT)\n",
    "    for fname in files\n",
    "    if os.path.splitext(fname)[1].lower() == \".png\"\n",
    "}\n",
    "\n",
    "jsons = {\n",
    "    os.path.relpath(os.path.join(root, fname), start=LABEL_ROOT)\n",
    "    for root, _dirs, files in os.walk(LABEL_ROOT)\n",
    "    for fname in files\n",
    "    if os.path.splitext(fname)[1].lower() == \".json\"\n",
    "}"
   ]
  },
  {
   "cell_type": "markdown",
   "metadata": {},
   "source": [
    "## ValidationSet에 대한 예측 결과 불러오기"
   ]
  },
  {
   "cell_type": "code",
   "execution_count": null,
   "metadata": {},
   "outputs": [],
   "source": [
    "df = pd.read_csv('')"
   ]
  },
  {
   "cell_type": "code",
   "execution_count": null,
   "metadata": {},
   "outputs": [],
   "source": [
    "len(df.iloc[0]['rle'])"
   ]
  },
  {
   "cell_type": "code",
   "execution_count": null,
   "metadata": {},
   "outputs": [],
   "source": [
    "df.head()"
   ]
  },
  {
   "cell_type": "code",
   "execution_count": null,
   "metadata": {},
   "outputs": [],
   "source": [
    "df = df[~df['image_name'].isin(['image1661130828152', 'image1661130891365'])]"
   ]
  },
  {
   "cell_type": "code",
   "execution_count": null,
   "metadata": {},
   "outputs": [],
   "source": [
    "list(pngs)[1].split(\"/\")[1]\n",
    "\n",
    "image_dict = {name.split(\"/\")[1]:name for name in list(pngs)}\n",
    "label_dict = {name.split(\"/\")[1][:-4]+'png':name for name in list(jsons)}\n",
    "\n",
    "df[\"image_path\"] = df['image_name'].apply(lambda x: image_dict[x])\n",
    "df[\"label_path\"] = df['image_name'].apply(lambda x: label_dict[x])"
   ]
  },
  {
   "cell_type": "code",
   "execution_count": null,
   "metadata": {},
   "outputs": [],
   "source": [
    "image_dict['image1661130828152_R.png']"
   ]
  },
  {
   "cell_type": "code",
   "execution_count": null,
   "metadata": {},
   "outputs": [],
   "source": [
    "print(image_dict['image1661130828152_R.png'])"
   ]
  },
  {
   "cell_type": "markdown",
   "metadata": {},
   "source": [
    "## Decoding method (rle to mask)"
   ]
  },
  {
   "cell_type": "code",
   "execution_count": null,
   "metadata": {},
   "outputs": [],
   "source": [
    "def rle_to_mask(rle, height, width):\n",
    "    mask = np.zeros(height * width, dtype=np.uint8)\n",
    "    array = np.asarray([int(x) for x in rle.split()])\n",
    "    starts = array[0::2] - 1\n",
    "    lengths = array[1::2]\n",
    "    for start, length in zip(starts, lengths):\n",
    "        mask[start:start + length] = 1\n",
    "    return mask.reshape((height, width))"
   ]
  },
  {
   "cell_type": "code",
   "execution_count": null,
   "metadata": {},
   "outputs": [],
   "source": [
    "def mask_to_poly_seg(mask):\n",
    "    points = np.argwhere(mask == 1)\n",
    "    points = points[:, [1, 0]]  # (row, col) => (x, y)\n",
    "    return points.tolist()"
   ]
  },
  {
   "cell_type": "code",
   "execution_count": null,
   "metadata": {},
   "outputs": [],
   "source": [
    "df.head()"
   ]
  },
  {
   "cell_type": "markdown",
   "metadata": {},
   "source": [
    "## Validation Dataset에 대해 클래스 별 over & under pixels 계산"
   ]
  },
  {
   "cell_type": "code",
   "execution_count": null,
   "metadata": {},
   "outputs": [],
   "source": [
    "def calculate_average_over_under_pixels(df):\n",
    "    # 클래스별 전체 결과를 저장할 딕셔너리\n",
    "    total_class_metrics = {class_name: {\"gt_pixels\": 0, \"over_pixels\": 0, \"under_pixels\": 0, \"image_count\": 0} for class_name in CLASSES}\n",
    "    img_names = df['image_name'].unique()  # 이미지 이름 목록\n",
    "\n",
    "    for idx in tqdm(range(len(img_names)), desc=\"Processing images\", unit=\"image\"):\n",
    "        # 현재 이미지에 해당하는 데이터\n",
    "        df_ = df[df['image_name'] == img_names[idx]]\n",
    "        label_path = df_['label_path'].iloc[0]\n",
    "\n",
    "        # GT 라벨 생성\n",
    "        gt_label = None\n",
    "        with open(os.path.join(LABEL_ROOT, label_path), \"r\") as f:\n",
    "            annotations = json.load(f)\n",
    "        annotations = annotations[\"annotations\"]\n",
    "\n",
    "        for ann in annotations:\n",
    "            c = ann[\"label\"]\n",
    "            class_ind = CLASS2IND[c]\n",
    "            points = np.array(ann[\"points\"])\n",
    "\n",
    "            if gt_label is None:\n",
    "                gt_label = np.zeros((2048, 2048, len(CLASSES)), dtype=np.uint8)\n",
    "\n",
    "            class_label = np.zeros(gt_label.shape[:2], dtype=np.uint8)\n",
    "            cv2.fillPoly(class_label, [points], 1)\n",
    "            gt_label[..., class_ind] = class_label\n",
    "\n",
    "        # 예측 라벨 생성\n",
    "        pred_label = np.zeros_like(gt_label, dtype=np.uint8)\n",
    "        for _, row in df_.iterrows():\n",
    "            c = row['class']\n",
    "            class_ind = CLASS2IND[c]\n",
    "            rle = row['rle']\n",
    "            mask = rle_to_mask(rle, gt_label.shape[0], gt_label.shape[1])\n",
    "            pred_label[..., class_ind] = mask\n",
    "\n",
    "        # 이미지별 Over/Under-Prediction 계산\n",
    "        for class_ind in range(len(CLASSES)):\n",
    "            if class_ind != 26:\n",
    "                continue\n",
    "            class_name = CLASSES[class_ind]\n",
    "            class_gt = gt_label[..., class_ind]\n",
    "            class_pred = pred_label[..., class_ind]\n",
    "\n",
    "            over_pixels = np.sum(class_pred > class_gt)\n",
    "            under_pixels = np.sum(class_pred < class_gt)\n",
    "            gt_pixels = np.sum(class_gt)\n",
    "\n",
    "            # 클래스별로 결과 누적\n",
    "            total_class_metrics[class_name][\"gt_pixels\"] += gt_pixels\n",
    "            total_class_metrics[class_name][\"over_pixels\"] += over_pixels\n",
    "            total_class_metrics[class_name][\"under_pixels\"] += under_pixels\n",
    "            total_class_metrics[class_name][\"image_count\"] += 1  # 해당 클래스가 등장한 이미지 수\n",
    "\n",
    "    # 평균 계산\n",
    "    avg_metrics = {}\n",
    "    for class_name, metrics in total_class_metrics.items():\n",
    "        image_count = metrics[\"image_count\"]  # 해당 클래스가 등장한 이미지 수\n",
    "        if image_count > 0:\n",
    "            avg_metrics[class_name] = {\n",
    "                \"avg_over_pixels\": metrics[\"over_pixels\"] / image_count,\n",
    "                \"avg_under_pixels\": metrics[\"under_pixels\"] / image_count,\n",
    "            }\n",
    "        else:\n",
    "            avg_metrics[class_name] = {\"avg_over_pixels\": 0, \"avg_under_pixels\": 0}\n",
    "\n",
    "    return avg_metrics\n",
    "\n"
   ]
  },
  {
   "cell_type": "code",
   "execution_count": null,
   "metadata": {},
   "outputs": [],
   "source": [
    "image_metrics = calculate_average_over_under_pixels(df)"
   ]
  },
  {
   "cell_type": "code",
   "execution_count": null,
   "metadata": {},
   "outputs": [],
   "source": [
    "for class_name, metrics in image_metrics.items():\n",
    "    print(f\"Class: {class_name}\")\n",
    "    print(f\"  Average Over Pixels: {metrics['avg_over_pixels']:.2f}\")\n",
    "    print(f\"  Average Under Pixels: {metrics['avg_under_pixels']:.2f}\")"
   ]
  },
  {
   "cell_type": "code",
   "execution_count": null,
   "metadata": {},
   "outputs": [],
   "source": [
    "import matplotlib.pyplot as plt\n",
    "\n",
    "# over_pixels, under_pixels의 합을 계산\n",
    "total_over_pixels = sum(metrics['avg_over_pixels'] for metrics in image_metrics.values())\n",
    "total_under_pixels = sum(metrics['avg_under_pixels'] for metrics in image_metrics.values())\n",
    "\n",
    "# 시각화\n",
    "labels = ['Over Pixels', 'Under Pixels']\n",
    "values = [total_over_pixels, total_under_pixels]\n",
    "\n",
    "print(f'total over pixels: {total_over_pixels}')\n",
    "print(f'total under pixels: {total_under_pixels}')\n",
    "\n",
    "# 막대 차트 그리기\n",
    "fig, ax = plt.subplots(figsize=(8, 6))\n",
    "ax.bar(labels, values, color=['blue', 'red'])\n",
    "\n",
    "# 제목 및 레이블\n",
    "ax.set_title('Total Over and Under Pixels')\n",
    "ax.set_ylabel('Pixel Count')\n",
    "\n",
    "# 그래프 표시\n",
    "plt.tight_layout()\n",
    "plt.show()\n"
   ]
  },
  {
   "cell_type": "markdown",
   "metadata": {},
   "source": [
    "## 각 클래스 별 over & under predict 비율에 따라 threshold 조정"
   ]
  },
  {
   "cell_type": "code",
   "execution_count": null,
   "metadata": {},
   "outputs": [],
   "source": [
    "def adjust_thresholds_dynamic(avg_metrics, initial_thresholds, base_rate=[0.05, 0.10, 0.15, 0.20], max_adjust=0.3, min_ratio=0.5, max_ratio=2.0):\n",
    "    \"\"\"\n",
    "    Under/Over 비율 기반으로 threshold를 동적으로 조정 (비율에 따라 조정 폭이 변동)\n",
    "    :param avg_metrics: 클래스별 평균 over/under 픽셀 수 딕셔너리\n",
    "    :param initial_thresholds: 초기 threshold 값 딕셔너리\n",
    "    :param base_rate: 비율이 1일 때의 기본 조정 폭 (예: [0.05, 0.10, 0.15, 0.2])\n",
    "    :param max_adjust: 최대 조정 폭 제한 (예: 0.3)\n",
    "    :param min_ratio: Under/Over 비율의 최소 허용치 (0.5 미만이면 threshold 증가)\n",
    "    :param max_ratio: Under/Over 비율의 최대 허용치 (2.0 초과면 threshold 감소)\n",
    "    :return: 4개의 조정된 threshold 리스트 (각각의 비율에 따라)\n",
    "    \"\"\"\n",
    "    # 각 비율에 맞는 threshold들을 계산할 리스트\n",
    "    adjusted_thresholds = {base_rate[0]: [], base_rate[1]: [], base_rate[2]: [], base_rate[3]: []}\n",
    "    \n",
    "    for class_name, metrics in avg_metrics.items():\n",
    "        over_pixels = metrics[\"avg_over_pixels\"]\n",
    "        under_pixels = metrics[\"avg_under_pixels\"]\n",
    "        \n",
    "        # 비율 계산 (0으로 나누는 상황 방지)\n",
    "        if over_pixels > 0:\n",
    "            ratio = under_pixels / over_pixels\n",
    "        else:\n",
    "            ratio = float('inf')  # Over-pixels가 0이면 비율이 무한대로 간주\n",
    "        \n",
    "        print(f\"Class: {class_name}\")\n",
    "        print(f\"  Over Pixels: {over_pixels}, Under Pixels: {under_pixels}, Ratio: {ratio:.2f}\")\n",
    "        \n",
    "        # 현재 클래스의 threshold\n",
    "        current_threshold = initial_thresholds[class_name]\n",
    "        \n",
    "        # 각 비율을 기준으로 threshold를 동적으로 조정하고, 그 결과를 4개의 리스트에 저장\n",
    "        for rate in base_rate:\n",
    "            if ratio < min_ratio:  # 비율이 너무 작을 경우 threshold 증가\n",
    "                adjust_amount = min(rate, max_adjust)\n",
    "                adjusted_threshold = current_threshold + adjust_amount\n",
    "            elif min_ratio <= ratio < 1:  # 비율이 1보다 작은 경우\n",
    "                adjust_amount = min(rate / ratio, max_adjust)\n",
    "                adjusted_threshold = current_threshold + adjust_amount\n",
    "            elif 1 <= ratio <= max_ratio:  # 비율이 1과 max_ratio 사이\n",
    "                adjust_amount = min(rate * ratio, max_adjust)\n",
    "                adjusted_threshold = current_threshold - adjust_amount\n",
    "            else:  # 비율이 너무 클 경우 threshold 감소\n",
    "                adjust_amount = min(rate, max_adjust)\n",
    "                adjusted_threshold = current_threshold - adjust_amount\n",
    "\n",
    "            # Threshold 값 제한\n",
    "            adjusted_threshold = max(0.2, min(0.8, adjusted_threshold))\n",
    "            \n",
    "            # 해당 rate에 해당하는 threshold 리스트에 추가\n",
    "            adjusted_thresholds[rate].append(adjusted_threshold)\n",
    "            \n",
    "            print(f\"  Adjusted Threshold (base_rate={rate}): {adjusted_threshold:.2f} (Adjust Amount: {adjust_amount:.2f})\")\n",
    "    \n",
    "    return adjusted_thresholds\n"
   ]
  },
  {
   "cell_type": "code",
   "execution_count": null,
   "metadata": {},
   "outputs": [],
   "source": [
    "# 초기 threshold 설정\n",
    "initial_thresholds = {class_name: 0.5 for class_name in CLASSES}\n",
    "\n",
    "# 평균 over/under 비율로 threshold 조정\n",
    "new_thresholds = adjust_thresholds_dynamic(image_metrics, initial_thresholds)"
   ]
  },
  {
   "cell_type": "code",
   "execution_count": null,
   "metadata": {},
   "outputs": [],
   "source": [
    "for key, value in new_thresholds.items():\n",
    "    print(f'{key}: {value}')"
   ]
  },
  {
   "cell_type": "code",
   "execution_count": null,
   "metadata": {},
   "outputs": [],
   "source": []
  }
 ],
 "metadata": {
  "kernelspec": {
   "display_name": "base",
   "language": "python",
   "name": "python3"
  },
  "language_info": {
   "codemirror_mode": {
    "name": "ipython",
    "version": 3
   },
   "file_extension": ".py",
   "mimetype": "text/x-python",
   "name": "python",
   "nbconvert_exporter": "python",
   "pygments_lexer": "ipython3",
   "version": "3.10.13"
  }
 },
 "nbformat": 4,
 "nbformat_minor": 2
}
