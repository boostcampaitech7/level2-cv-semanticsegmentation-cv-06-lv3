{
 "cells": [
  {
   "cell_type": "code",
   "execution_count": 1,
   "metadata": {},
   "outputs": [
    {
     "name": "stderr",
     "output_type": "stream",
     "text": [
      "/opt/conda/lib/python3.10/site-packages/tqdm/auto.py:21: TqdmWarning: IProgress not found. Please update jupyter and ipywidgets. See https://ipywidgets.readthedocs.io/en/stable/user_install.html\n",
      "  from .autonotebook import tqdm as notebook_tqdm\n",
      "/opt/conda/lib/python3.10/site-packages/albumentations/__init__.py:13: UserWarning: A new version of Albumentations is available: 1.4.21 (you have 1.4.18). Upgrade using: pip install -U albumentations. To disable automatic update checks, set the environment variable NO_ALBUMENTATIONS_UPDATE to 1.\n",
      "  check_for_updates()\n"
     ]
    }
   ],
   "source": [
    "# python native\n",
    "import os\n",
    "import json\n",
    "import random\n",
    "import datetime\n",
    "from functools import partial\n",
    "\n",
    "# external library\n",
    "import cv2\n",
    "import numpy as np\n",
    "import pandas as pd\n",
    "from tqdm.auto import tqdm\n",
    "from sklearn.model_selection import GroupKFold\n",
    "import albumentations as A\n",
    "\n",
    "# torch\n",
    "import torch\n",
    "import torch.nn as nn\n",
    "import torch.nn.functional as F\n",
    "import torch.optim as optim\n",
    "from torch.utils.data import Dataset, DataLoader\n",
    "from torchvision import models\n",
    "\n",
    "# visualization\n",
    "import matplotlib.pyplot as plt"
   ]
  },
  {
   "cell_type": "code",
   "execution_count": 2,
   "metadata": {},
   "outputs": [],
   "source": [
    "# IMAGE_ROOT = \"/data/ephemeral/home/level2-cv-semanticsegmentation-cv-06-lv3/data/fold_0/images\"\n",
    "# LABEL_ROOT = \"/data/ephemeral/home/level2-cv-semanticsegmentation-cv-06-lv3/data/fold_0/annos\""
   ]
  },
  {
   "cell_type": "code",
   "execution_count": 3,
   "metadata": {},
   "outputs": [],
   "source": [
    "IMAGE_ROOT = \"/data/ephemeral/home/level2-cv-semanticsegmentation-cv-06-lv3/data/fold_all/images\"\n",
    "LABEL_ROOT = \"/data/ephemeral/home/level2-cv-semanticsegmentation-cv-06-lv3/data/fold_all/annos\""
   ]
  },
  {
   "cell_type": "code",
   "execution_count": 4,
   "metadata": {},
   "outputs": [],
   "source": [
    "CLASSES = [\n",
    "    'finger-1', 'finger-2', 'finger-3', 'finger-4', 'finger-5',\n",
    "    'finger-6', 'finger-7', 'finger-8', 'finger-9', 'finger-10',\n",
    "    'finger-11', 'finger-12', 'finger-13', 'finger-14', 'finger-15',\n",
    "    'finger-16', 'finger-17', 'finger-18', 'finger-19', 'Trapezium',\n",
    "    'Trapezoid', 'Capitate', 'Hamate', 'Scaphoid', 'Lunate',\n",
    "    'Triquetrum', 'Pisiform', 'Radius', 'Ulna',\n",
    "]"
   ]
  },
  {
   "cell_type": "code",
   "execution_count": 5,
   "metadata": {},
   "outputs": [],
   "source": [
    "CLASS2IND = {v: i for i, v in enumerate(CLASSES)}\n",
    "IND2CLASS = {v: k for k, v in CLASS2IND.items()}\n"
   ]
  },
  {
   "cell_type": "code",
   "execution_count": 6,
   "metadata": {},
   "outputs": [],
   "source": [
    "pngs = {\n",
    "    os.path.relpath(os.path.join(root, fname), start=IMAGE_ROOT)\n",
    "    for root, _dirs, files in os.walk(IMAGE_ROOT)\n",
    "    for fname in files\n",
    "    if os.path.splitext(fname)[1].lower() == \".png\"\n",
    "}"
   ]
  },
  {
   "cell_type": "code",
   "execution_count": 7,
   "metadata": {},
   "outputs": [
    {
     "name": "stdout",
     "output_type": "stream",
     "text": [
      "Sample PNG paths: ['ID487_image1666661971614.png', 'ID122_image1661909071872.png', 'ID525_image1667179061405.png', 'ID415_image1666055128809.png', 'ID530_image1667264279084.png']\n"
     ]
    }
   ],
   "source": [
    "print(\"Sample PNG paths:\", list(pngs)[:5])"
   ]
  },
  {
   "cell_type": "code",
   "execution_count": 8,
   "metadata": {},
   "outputs": [
    {
     "data": {
      "text/plain": [
       "800"
      ]
     },
     "execution_count": 8,
     "metadata": {},
     "output_type": "execute_result"
    }
   ],
   "source": [
    "len(pngs)"
   ]
  },
  {
   "cell_type": "code",
   "execution_count": 9,
   "metadata": {},
   "outputs": [],
   "source": [
    "jsons = {\n",
    "    os.path.relpath(os.path.join(root, fname), start=LABEL_ROOT)\n",
    "    for root, _dirs, files in os.walk(LABEL_ROOT)\n",
    "    for fname in files\n",
    "    if os.path.splitext(fname)[1].lower() == \".json\"\n",
    "}"
   ]
  },
  {
   "cell_type": "code",
   "execution_count": 10,
   "metadata": {},
   "outputs": [
    {
     "data": {
      "text/plain": [
       "800"
      ]
     },
     "execution_count": 10,
     "metadata": {},
     "output_type": "execute_result"
    }
   ],
   "source": [
    "len(jsons)"
   ]
  },
  {
   "cell_type": "code",
   "execution_count": 12,
   "metadata": {},
   "outputs": [],
   "source": [
    "jsons_fn_prefix = {os.path.splitext(fname)[0] for fname in jsons}\n",
    "pngs_fn_prefix = {os.path.splitext(fname)[0] for fname in pngs}\n",
    "\n",
    "assert len(jsons_fn_prefix - pngs_fn_prefix) == 0\n",
    "assert len(pngs_fn_prefix - jsons_fn_prefix) == 0"
   ]
  },
  {
   "cell_type": "code",
   "execution_count": 13,
   "metadata": {},
   "outputs": [],
   "source": [
    "pngs = sorted(pngs)\n",
    "jsons = sorted(jsons)"
   ]
  },
  {
   "cell_type": "code",
   "execution_count": 14,
   "metadata": {},
   "outputs": [],
   "source": [
    "class XRayDataset(Dataset):\n",
    "    def __init__(self, is_train=True, transforms=None):\n",
    "        _filenames = np.array(pngs)\n",
    "        _labelnames = np.array(jsons)\n",
    "                \n",
    "        self.filenames = _filenames\n",
    "        self.labelnames = _labelnames\n",
    "        self.is_train = is_train\n",
    "        self.transforms = transforms\n",
    "    \n",
    "    def __len__(self):\n",
    "        return len(self.filenames)\n",
    "    \n",
    "    def __getitem__(self, item):\n",
    "        image_name = self.filenames[item]\n",
    "        image_path = os.path.join(IMAGE_ROOT, image_name)\n",
    "        image = cv2.imread(image_path)\n",
    "        # image = image / 255.\n",
    "        \n",
    "        label_name = self.labelnames[item]\n",
    "        label_path = os.path.join(LABEL_ROOT, label_name)\n",
    "        \n",
    "        # (H, W, NC) 모양의 label을 생성합니다.\n",
    "        label_shape = tuple(image.shape[:2]) + (len(CLASSES), )\n",
    "        label = np.zeros(label_shape, dtype=np.uint8)\n",
    "        \n",
    "        # label 파일을 읽습니다.\n",
    "        with open(label_path, \"r\") as f:\n",
    "            annotations = json.load(f)\n",
    "        annotations = annotations[\"annotations\"]\n",
    "        \n",
    "        # 클래스 별로 처리합니다.\n",
    "        for ann in annotations:\n",
    "            c = ann[\"label\"]\n",
    "            class_ind = CLASS2IND[c]\n",
    "            points = np.array(ann[\"points\"])\n",
    "            \n",
    "            # polygon 포맷을 dense한 mask 포맷으로 바꿉니다.\n",
    "            class_label = np.zeros(image.shape[:2], dtype=np.uint8)\n",
    "            cv2.fillPoly(class_label, [points], 1)\n",
    "            label[..., class_ind] = class_label\n",
    "        \n",
    "            \n",
    "        return image, label, image_path, label_path"
   ]
  },
  {
   "cell_type": "code",
   "execution_count": 15,
   "metadata": {},
   "outputs": [],
   "source": [
    "train_dataset = XRayDataset(is_train=True, transforms=None)\n"
   ]
  },
  {
   "cell_type": "code",
   "execution_count": 33,
   "metadata": {},
   "outputs": [],
   "source": [
    "SAVE_ROOT = './crop_all_Trapezoid'"
   ]
  },
  {
   "cell_type": "code",
   "execution_count": 17,
   "metadata": {},
   "outputs": [],
   "source": [
    "SAVE_ROOT = './crop_all_Pisiform'"
   ]
  },
  {
   "cell_type": "code",
   "execution_count": 34,
   "metadata": {},
   "outputs": [],
   "source": [
    "SAVE_ROOT = './crop_train_Pisiform'"
   ]
  },
  {
   "cell_type": "code",
   "execution_count": 15,
   "metadata": {},
   "outputs": [],
   "source": [
    "SAVE_ROOT = './crop_train_Hamate'"
   ]
  },
  {
   "cell_type": "code",
   "execution_count": 46,
   "metadata": {},
   "outputs": [],
   "source": [
    "SAVE_ROOT = './crop_all_Hamate'"
   ]
  },
  {
   "cell_type": "code",
   "execution_count": null,
   "metadata": {},
   "outputs": [],
   "source": [
    "Trapezium"
   ]
  },
  {
   "cell_type": "code",
   "execution_count": 15,
   "metadata": {},
   "outputs": [],
   "source": [
    "SAVE_ROOT = './crop_train_Triquetrum'"
   ]
  },
  {
   "cell_type": "code",
   "execution_count": 17,
   "metadata": {},
   "outputs": [],
   "source": [
    "SAVE_ROOT = './crop_all_Triquetrum'"
   ]
  },
  {
   "cell_type": "code",
   "execution_count": 19,
   "metadata": {},
   "outputs": [
    {
     "data": {
      "text/plain": [
       "25"
      ]
     },
     "execution_count": 19,
     "metadata": {},
     "output_type": "execute_result"
    }
   ],
   "source": [
    "CLASS2IND['Triquetrum']"
   ]
  },
  {
   "cell_type": "code",
   "execution_count": 20,
   "metadata": {},
   "outputs": [],
   "source": [
    "from tqdm import tqdm "
   ]
  },
  {
   "cell_type": "code",
   "execution_count": 21,
   "metadata": {},
   "outputs": [
    {
     "name": "stderr",
     "output_type": "stream",
     "text": [
      "100%|██████████| 800/800 [08:53<00:00,  1.50it/s]\n"
     ]
    }
   ],
   "source": [
    "fold_dir = os.path.join(SAVE_ROOT)\n",
    "os.makedirs(fold_dir, exist_ok=True)\n",
    "\n",
    "image_dir = os.path.join(fold_dir, 'images')\n",
    "os.makedirs(image_dir, exist_ok=True)\n",
    "\n",
    "annos_dir = os.path.join(fold_dir, 'annos')\n",
    "os.makedirs(annos_dir, exist_ok=True)\n",
    "\n",
    "crop_size = (224, 224)  # (height, width)\n",
    "\n",
    "for i in tqdm(range(len(train_dataset))):\n",
    "    image, label, image_path, label_path = train_dataset[i]\n",
    "\n",
    "    # for k in [CLASS2IND['Trapezoid']]: # ,CLASS2IND['Pisiform']\n",
    "    # for k in [CLASS2IND['Pisiform']]: # ,CLASS2IND['Pisiform']Scaphoid\\\n",
    "    for k in [CLASS2IND['Triquetrum']]: # ,CLASS2IND['Pisiform']Scaphoid\n",
    "\n",
    "        coords = np.column_stack(np.where(label[:,:,k] > 0))\n",
    "\n",
    "        x_min, y_min = coords.min(axis=0)  \n",
    "        x_max, y_max = coords.max(axis=0)  \n",
    "\n",
    "\n",
    "        if abs(x_max - x_min) > crop_size[0] or abs(y_max - y_min) > crop_size[1]:\n",
    "            print(abs(x_max - x_min))\n",
    "            print(abs(y_max - y_min))\n",
    "            print('????')\n",
    "\n",
    "\n",
    "        center_x = (x_min + x_max) // 2\n",
    "        center_y = (y_min + y_max) // 2\n",
    "\n",
    "        half_h = crop_size[0] // 2\n",
    "        half_w = crop_size[1] // 2\n",
    "\n",
    "        # cropped_image = image[x_min-10:x_max+10,y_min-10:y_max+10]\n",
    "        # cropped_mask = label[x_min-10:x_max+10,y_min-10:y_max+10,k]\n",
    "\n",
    "        start_x = max(center_x - half_h, 0)\n",
    "        start_y = max(center_y - half_w, 0)\n",
    "        end_x = start_x + crop_size[0]\n",
    "        end_y = start_y + crop_size[1]\n",
    "\n",
    "        if end_x > image.shape[0]:\n",
    "            start_x = image.shape[0] - crop_size[0]\n",
    "            end_x = image.shape[0]\n",
    "\n",
    "        if end_y > image.shape[1]:\n",
    "            start_y = image.shape[1] - crop_size[1]\n",
    "            end_y = image.shape[1]\n",
    "\n",
    "        cropped_image = image[start_x:end_x, start_y:end_y]\n",
    "        cropped_mask = label[start_x:end_x, start_y:end_y, k]\n",
    "\n",
    "        output_image_path = os.path.join(image_dir,str(k)+'_'+image_path.split('/')[-1])\n",
    "\n",
    "    # break \n",
    "        cv2.imwrite(output_image_path, cropped_image)\n",
    "\n",
    "        t = str(k)+'_'+label_path.split('/')[-1]\n",
    "        t = t[:-4] + \"png\"\n",
    "        output_label_path = os.path.join(annos_dir,t)\n",
    "\n",
    "        cv2.imwrite(output_label_path, cropped_mask)\n"
   ]
  },
  {
   "cell_type": "code",
   "execution_count": 18,
   "metadata": {},
   "outputs": [],
   "source": [
    "IMAGE_ROOT = \"/data/ephemeral/home/level2-cv-semanticsegmentation-cv-06-lv3/data/fold_1/images\"\n",
    "LABEL_ROOT = \"/data/ephemeral/home/level2-cv-semanticsegmentation-cv-06-lv3/data/fold_1/annos\""
   ]
  },
  {
   "cell_type": "code",
   "execution_count": 19,
   "metadata": {},
   "outputs": [
    {
     "data": {
      "text/plain": [
       "160"
      ]
     },
     "execution_count": 19,
     "metadata": {},
     "output_type": "execute_result"
    }
   ],
   "source": [
    "pngs = {\n",
    "    os.path.relpath(os.path.join(root, fname), start=IMAGE_ROOT)\n",
    "    for root, _dirs, files in os.walk(IMAGE_ROOT)\n",
    "    for fname in files\n",
    "    if os.path.splitext(fname)[1].lower() == \".png\"\n",
    "}\n",
    "len(pngs)"
   ]
  },
  {
   "cell_type": "code",
   "execution_count": 20,
   "metadata": {},
   "outputs": [
    {
     "data": {
      "text/plain": [
       "160"
      ]
     },
     "execution_count": 20,
     "metadata": {},
     "output_type": "execute_result"
    }
   ],
   "source": [
    "jsons = {\n",
    "    os.path.relpath(os.path.join(root, fname), start=LABEL_ROOT)\n",
    "    for root, _dirs, files in os.walk(LABEL_ROOT)\n",
    "    for fname in files\n",
    "    if os.path.splitext(fname)[1].lower() == \".json\"\n",
    "}\n",
    "\n",
    "len(jsons)"
   ]
  },
  {
   "cell_type": "code",
   "execution_count": 21,
   "metadata": {},
   "outputs": [],
   "source": [
    "jsons_fn_prefix = {os.path.splitext(fname)[0] for fname in jsons}\n",
    "pngs_fn_prefix = {os.path.splitext(fname)[0] for fname in pngs}\n",
    "\n",
    "assert len(jsons_fn_prefix - pngs_fn_prefix) == 0\n",
    "assert len(pngs_fn_prefix - jsons_fn_prefix) == 0"
   ]
  },
  {
   "cell_type": "code",
   "execution_count": 22,
   "metadata": {},
   "outputs": [],
   "source": [
    "pngs = sorted(pngs)\n",
    "jsons = sorted(jsons)"
   ]
  },
  {
   "cell_type": "code",
   "execution_count": 23,
   "metadata": {},
   "outputs": [],
   "source": [
    "class XRayDataset(Dataset):\n",
    "    def __init__(self, is_train=True, transforms=None):\n",
    "        _filenames = np.array(pngs)\n",
    "        _labelnames = np.array(jsons)\n",
    "                \n",
    "        self.filenames = _filenames\n",
    "        self.labelnames = _labelnames\n",
    "        self.is_train = is_train\n",
    "        self.transforms = transforms\n",
    "    \n",
    "    def __len__(self):\n",
    "        return len(self.filenames)\n",
    "    \n",
    "    def __getitem__(self, item):\n",
    "        image_name = self.filenames[item]\n",
    "        image_path = os.path.join(IMAGE_ROOT, image_name)\n",
    "        image = cv2.imread(image_path)\n",
    "        # image = image / 255.\n",
    "        \n",
    "        label_name = self.labelnames[item]\n",
    "        label_path = os.path.join(LABEL_ROOT, label_name)\n",
    "        \n",
    "        # (H, W, NC) 모양의 label을 생성합니다.\n",
    "        label_shape = tuple(image.shape[:2]) + (len(CLASSES), )\n",
    "        label = np.zeros(label_shape, dtype=np.uint8)\n",
    "        \n",
    "        # label 파일을 읽습니다.\n",
    "        with open(label_path, \"r\") as f:\n",
    "            annotations = json.load(f)\n",
    "        annotations = annotations[\"annotations\"]\n",
    "        \n",
    "        # 클래스 별로 처리합니다.\n",
    "        for ann in annotations:\n",
    "            c = ann[\"label\"]\n",
    "            class_ind = CLASS2IND[c]\n",
    "            points = np.array(ann[\"points\"])\n",
    "            \n",
    "            # polygon 포맷을 dense한 mask 포맷으로 바꿉니다.\n",
    "            class_label = np.zeros(image.shape[:2], dtype=np.uint8)\n",
    "            cv2.fillPoly(class_label, [points], 1)\n",
    "            label[..., class_ind] = class_label\n",
    "        \n",
    "            \n",
    "        return image, label, image_path, label_path"
   ]
  },
  {
   "cell_type": "code",
   "execution_count": 24,
   "metadata": {},
   "outputs": [],
   "source": [
    "train_dataset = XRayDataset(is_train=True, transforms=None)\n"
   ]
  },
  {
   "cell_type": "code",
   "execution_count": 25,
   "metadata": {},
   "outputs": [
    {
     "data": {
      "text/plain": [
       "160"
      ]
     },
     "execution_count": 25,
     "metadata": {},
     "output_type": "execute_result"
    }
   ],
   "source": [
    "len(train_dataset)"
   ]
  },
  {
   "cell_type": "code",
   "execution_count": 25,
   "metadata": {},
   "outputs": [],
   "source": [
    "SAVE_ROOT = './crop_val_Trapezoid'"
   ]
  },
  {
   "cell_type": "code",
   "execution_count": 45,
   "metadata": {},
   "outputs": [],
   "source": [
    "SAVE_ROOT = './crop_val_Pisiform'"
   ]
  },
  {
   "cell_type": "code",
   "execution_count": 27,
   "metadata": {},
   "outputs": [],
   "source": [
    "SAVE_ROOT = './crop_val_Scaphoid'"
   ]
  },
  {
   "cell_type": "code",
   "execution_count": 30,
   "metadata": {},
   "outputs": [],
   "source": [
    "SAVE_ROOT = './crop_val_Hamate'"
   ]
  },
  {
   "cell_type": "code",
   "execution_count": 26,
   "metadata": {},
   "outputs": [],
   "source": [
    "SAVE_ROOT = './crop_val_Triquetrum' "
   ]
  },
  {
   "cell_type": "code",
   "execution_count": null,
   "metadata": {},
   "outputs": [],
   "source": []
  },
  {
   "cell_type": "code",
   "execution_count": 27,
   "metadata": {},
   "outputs": [
    {
     "name": "stderr",
     "output_type": "stream",
     "text": [
      "100%|██████████| 160/160 [01:46<00:00,  1.50it/s]\n"
     ]
    }
   ],
   "source": [
    "fold_dir = os.path.join(SAVE_ROOT)\n",
    "os.makedirs(fold_dir, exist_ok=True)\n",
    "\n",
    "image_dir = os.path.join(fold_dir, 'images')\n",
    "os.makedirs(image_dir, exist_ok=True)\n",
    "\n",
    "annos_dir = os.path.join(fold_dir, 'annos')\n",
    "os.makedirs(annos_dir, exist_ok=True)\n",
    "\n",
    "crop_size = (224, 224)  # (height, width)\n",
    "\n",
    "\n",
    "for i in tqdm(range(len(train_dataset))):\n",
    "    image, label, image_path, label_path = train_dataset[i]\n",
    "\n",
    "    # for k in [CLASS2IND['Trapezoid']]: # ,CLASS2IND['Pisiform']\n",
    "    # for k in [CLASS2IND['Pisiform']]: # ,CLASS2IND['Pisiform']Scaphoid\n",
    "    for k in [CLASS2IND['Triquetrum']]: # ,CLASS2IND['Pisiform']Scaphoid\n",
    "\n",
    "        coords = np.column_stack(np.where(label[:,:,k] > 0))\n",
    "\n",
    "        x_min, y_min = coords.min(axis=0)  \n",
    "        x_max, y_max = coords.max(axis=0)  \n",
    "\n",
    "\n",
    "        if abs(x_max - x_min) > crop_size[0] or abs(y_max - y_min) > crop_size[1]:\n",
    "            print(abs(x_max - x_min))\n",
    "            print(abs(y_max - y_min))\n",
    "            print('????')\n",
    "\n",
    "\n",
    "        center_x = (x_min + x_max) // 2\n",
    "        center_y = (y_min + y_max) // 2\n",
    "\n",
    "        half_h = crop_size[0] // 2\n",
    "        half_w = crop_size[1] // 2\n",
    "\n",
    "        # cropped_image = image[x_min-10:x_max+10,y_min-10:y_max+10]\n",
    "        # cropped_mask = label[x_min-10:x_max+10,y_min-10:y_max+10,k]\n",
    "\n",
    "        start_x = max(center_x - half_h, 0)\n",
    "        start_y = max(center_y - half_w, 0)\n",
    "        end_x = start_x + crop_size[0]\n",
    "        end_y = start_y + crop_size[1]\n",
    "\n",
    "        if end_x > image.shape[0]:\n",
    "            start_x = image.shape[0] - crop_size[0]\n",
    "            end_x = image.shape[0]\n",
    "\n",
    "        if end_y > image.shape[1]:\n",
    "            start_y = image.shape[1] - crop_size[1]\n",
    "            end_y = image.shape[1]\n",
    "\n",
    "        cropped_image = image[start_x:end_x, start_y:end_y]\n",
    "        cropped_mask = label[start_x:end_x, start_y:end_y, k]\n",
    "\n",
    "        \n",
    "        output_image_path = os.path.join(image_dir,str(k)+'_'+image_path.split('/')[-1])\n",
    "\n",
    "    # break \n",
    "        cv2.imwrite(output_image_path, cropped_image)\n",
    "\n",
    "        t = str(k)+'_'+label_path.split('/')[-1]\n",
    "        t = t[:-4] + \"png\"\n",
    "        output_label_path = os.path.join(annos_dir,t)\n",
    "\n",
    "        cv2.imwrite(output_label_path, cropped_mask)\n"
   ]
  },
  {
   "cell_type": "code",
   "execution_count": null,
   "metadata": {},
   "outputs": [],
   "source": []
  },
  {
   "cell_type": "code",
   "execution_count": null,
   "metadata": {},
   "outputs": [],
   "source": []
  }
 ],
 "metadata": {
  "kernelspec": {
   "display_name": "base",
   "language": "python",
   "name": "python3"
  },
  "language_info": {
   "codemirror_mode": {
    "name": "ipython",
    "version": 3
   },
   "file_extension": ".py",
   "mimetype": "text/x-python",
   "name": "python",
   "nbconvert_exporter": "python",
   "pygments_lexer": "ipython3",
   "version": "3.10.13"
  }
 },
 "nbformat": 4,
 "nbformat_minor": 2
}
