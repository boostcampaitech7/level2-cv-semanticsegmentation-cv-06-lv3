{
 "cells": [
  {
   "cell_type": "code",
   "execution_count": 1,
   "metadata": {},
   "outputs": [
    {
     "name": "stderr",
     "output_type": "stream",
     "text": [
      "/opt/conda/lib/python3.10/site-packages/tqdm/auto.py:21: TqdmWarning: IProgress not found. Please update jupyter and ipywidgets. See https://ipywidgets.readthedocs.io/en/stable/user_install.html\n",
      "  from .autonotebook import tqdm as notebook_tqdm\n"
     ]
    }
   ],
   "source": [
    "from mmseg.registry import DATASETS, VISUALIZERS\n"
   ]
  },
  {
   "cell_type": "code",
   "execution_count": 1,
   "metadata": {},
   "outputs": [],
   "source": [
    "from mmseg.datasets.basesegdataset import BaseSegDataset\n"
   ]
  },
  {
   "cell_type": "code",
   "execution_count": 2,
   "metadata": {},
   "outputs": [],
   "source": [
    "class XRayDataset(BaseSegDataset):\n",
    "    METAINFO = dict(\n",
    "        classes=('finger-1', 'finger-2', 'finger-3', 'finger-4', 'finger-5',\n",
    "                'finger-6', 'finger-7', 'finger-8', 'finger-9', 'finger-10',\n",
    "                'finger-11', 'finger-12', 'finger-13', 'finger-14', 'finger-15',\n",
    "                'finger-16', 'finger-17', 'finger-18', 'finger-19', 'Trapezium',\n",
    "                'Trapezoid', 'Capitate', 'Hamate', 'Scaphoid', 'Lunate',\n",
    "                'Triquetrum', 'Pisiform', 'Radius', 'Ulna',),\n",
    "        palette=[\n",
    "            (220, 20, 60), (119, 11, 32), (0, 0, 142), (0, 0, 230), (106, 0, 228),\n",
    "            (0, 60, 100), (0, 80, 100), (0, 0, 70), (0, 0, 192), (250, 170, 30),\n",
    "            (100, 170, 30), (220, 220, 0), (175, 116, 175), (250, 0, 30), (165, 42, 42),\n",
    "            (255, 77, 255), (0, 226, 252), (182, 182, 255), (0, 82, 0), (120, 166, 157),\n",
    "            (110, 76, 0), (174, 57, 255), (199, 100, 0), (72, 0, 118), (255, 179, 240),\n",
    "            (0, 125, 92), (209, 0, 151), (188, 208, 182), (0, 220, 176),])\n",
    "    def __init__(self,\n",
    "                 img_suffix='.png',\n",
    "                 seg_map_suffix='.json',\n",
    "                 **kwargs) -> None:\n",
    "        super().__init__(\n",
    "            img_suffix=img_suffix, seg_map_suffix=seg_map_suffix, **kwargs)\n"
   ]
  },
  {
   "cell_type": "code",
   "execution_count": 5,
   "metadata": {},
   "outputs": [],
   "source": [
    "data_root = '/data/ephemeral/home/data'\n",
    "data_prefix=dict(img_path='fold_0/images', seg_map_path='fold_0/annos')\n"
   ]
  },
  {
   "cell_type": "code",
   "execution_count": 6,
   "metadata": {},
   "outputs": [],
   "source": [
    "dataset = XRayDataset(data_root=data_root, data_prefix=data_prefix, test_mode=False)\n"
   ]
  },
  {
   "cell_type": "code",
   "execution_count": 7,
   "metadata": {},
   "outputs": [
    {
     "data": {
      "text/plain": [
       "<__main__.XRayDataset at 0x7f6dda880ca0>"
      ]
     },
     "execution_count": 7,
     "metadata": {},
     "output_type": "execute_result"
    }
   ],
   "source": [
    "dataset"
   ]
  },
  {
   "cell_type": "code",
   "execution_count": 8,
   "metadata": {},
   "outputs": [
    {
     "name": "stdout",
     "output_type": "stream",
     "text": [
      "160\n"
     ]
    }
   ],
   "source": [
    "print(len(dataset))\n"
   ]
  },
  {
   "cell_type": "code",
   "execution_count": 9,
   "metadata": {},
   "outputs": [
    {
     "name": "stdout",
     "output_type": "stream",
     "text": [
      "{'img_path': '/data/ephemeral/home/data/fold_0/images/ID001_image1661130828152_R.png', 'seg_map_path': '/data/ephemeral/home/data/fold_0/annos/ID001_image1661130828152_R.json', 'label_map': None, 'reduce_zero_label': False, 'seg_fields': [], 'sample_idx': 0}\n"
     ]
    }
   ],
   "source": [
    "print(dataset.get_data_info(0))\n"
   ]
  },
  {
   "cell_type": "code",
   "execution_count": 10,
   "metadata": {},
   "outputs": [
    {
     "name": "stdout",
     "output_type": "stream",
     "text": [
      "{'classes': ('finger-1', 'finger-2', 'finger-3', 'finger-4', 'finger-5', 'finger-6', 'finger-7', 'finger-8', 'finger-9', 'finger-10', 'finger-11', 'finger-12', 'finger-13', 'finger-14', 'finger-15', 'finger-16', 'finger-17', 'finger-18', 'finger-19', 'Trapezium', 'Trapezoid', 'Capitate', 'Hamate', 'Scaphoid', 'Lunate', 'Triquetrum', 'Pisiform', 'Radius', 'Ulna'), 'palette': [(220, 20, 60), (119, 11, 32), (0, 0, 142), (0, 0, 230), (106, 0, 228), (0, 60, 100), (0, 80, 100), (0, 0, 70), (0, 0, 192), (250, 170, 30), (100, 170, 30), (220, 220, 0), (175, 116, 175), (250, 0, 30), (165, 42, 42), (255, 77, 255), (0, 226, 252), (182, 182, 255), (0, 82, 0), (120, 166, 157), (110, 76, 0), (174, 57, 255), (199, 100, 0), (72, 0, 118), (255, 179, 240), (0, 125, 92), (209, 0, 151), (188, 208, 182), (0, 220, 176)], 'label_map': None, 'reduce_zero_label': False}\n"
     ]
    }
   ],
   "source": [
    "print(dataset.metainfo)\n"
   ]
  },
  {
   "cell_type": "code",
   "execution_count": 12,
   "metadata": {},
   "outputs": [
    {
     "data": {
      "text/plain": [
       "'/data/ephemeral/home/data/fold_0/annos/ID001_image1661130828152_R.json'"
      ]
     },
     "execution_count": 12,
     "metadata": {},
     "output_type": "execute_result"
    }
   ],
   "source": [
    "dataset[0]['seg_map_path']"
   ]
  },
  {
   "cell_type": "code",
   "execution_count": 13,
   "metadata": {},
   "outputs": [],
   "source": [
    "import json"
   ]
  },
  {
   "cell_type": "code",
   "execution_count": 19,
   "metadata": {},
   "outputs": [],
   "source": [
    "from mmcv.transforms import LoadImageFromFile\n",
    "tran = LoadImageFromFile()\n"
   ]
  },
  {
   "cell_type": "code",
   "execution_count": 20,
   "metadata": {},
   "outputs": [
    {
     "data": {
      "text/plain": [
       "{'img_path': '/data/ephemeral/home/data/fold_0/images/ID001_image1661130828152_R.png',\n",
       " 'seg_map_path': '/data/ephemeral/home/data/fold_0/annos/ID001_image1661130828152_R.json',\n",
       " 'label_map': None,\n",
       " 'reduce_zero_label': False,\n",
       " 'seg_fields': [],\n",
       " 'sample_idx': 0}"
      ]
     },
     "execution_count": 20,
     "metadata": {},
     "output_type": "execute_result"
    }
   ],
   "source": [
    "dataset[0]"
   ]
  },
  {
   "cell_type": "code",
   "execution_count": 23,
   "metadata": {},
   "outputs": [],
   "source": [
    "res =  tran.transform(dataset[0])"
   ]
  },
  {
   "cell_type": "code",
   "execution_count": 25,
   "metadata": {},
   "outputs": [
    {
     "data": {
      "text/plain": [
       "(2048, 2048)"
      ]
     },
     "execution_count": 25,
     "metadata": {},
     "output_type": "execute_result"
    }
   ],
   "source": [
    "res['img_shape']"
   ]
  },
  {
   "cell_type": "code",
   "execution_count": 28,
   "metadata": {},
   "outputs": [],
   "source": [
    "import numpy as np\n",
    "import cv2\n"
   ]
  },
  {
   "cell_type": "code",
   "execution_count": null,
   "metadata": {},
   "outputs": [],
   "source": []
  },
  {
   "cell_type": "code",
   "execution_count": null,
   "metadata": {},
   "outputs": [],
   "source": []
  },
  {
   "cell_type": "code",
   "execution_count": 27,
   "metadata": {},
   "outputs": [],
   "source": [
    "CLASSES = 29"
   ]
  },
  {
   "cell_type": "code",
   "execution_count": 29,
   "metadata": {},
   "outputs": [],
   "source": [
    "CLASSES = [\n",
    "    'finger-1', 'finger-2', 'finger-3', 'finger-4', 'finger-5',\n",
    "    'finger-6', 'finger-7', 'finger-8', 'finger-9', 'finger-10',\n",
    "    'finger-11', 'finger-12', 'finger-13', 'finger-14', 'finger-15',\n",
    "    'finger-16', 'finger-17', 'finger-18', 'finger-19', 'Trapezium',\n",
    "    'Trapezoid', 'Capitate', 'Hamate', 'Scaphoid', 'Lunate',\n",
    "    'Triquetrum', 'Pisiform', 'Radius', 'Ulna',\n",
    "]\n",
    "CLASS2IND = {v: i for i, v in enumerate(CLASSES)}"
   ]
  },
  {
   "cell_type": "code",
   "execution_count": null,
   "metadata": {},
   "outputs": [],
   "source": [
    "with open(dataset[0]['seg_map_path'], \"r\") as f:\n",
    "    annotations = json.load(f)\n",
    "annotations = annotations[\"annotations\"]\n",
    "\n",
    "label_shape = res['img_shape'] + (len(CLASSES), )\n",
    "label = np.zeros(label_shape, dtype=np.uint8)\n",
    "\n",
    "for ann in annotations:\n",
    "    c = ann[\"label\"]\n",
    "    class_ind = CLASS2IND[c]\n",
    "    points = np.array(ann[\"points\"])\n",
    "    \n",
    "    # polygon 포맷을 dense한 mask 포맷으로 바꿉니다.\n",
    "    class_label = np.zeros(res['img_shape'], dtype=np.uint8)\n",
    "    cv2.fillPoly(class_label, [points], 1)\n",
    "    label[..., class_ind] = class_label\n",
    "label = label.transpose(2, 0, 1)\n"
   ]
  },
  {
   "cell_type": "code",
   "execution_count": null,
   "metadata": {},
   "outputs": [],
   "source": []
  },
  {
   "cell_type": "code",
   "execution_count": null,
   "metadata": {},
   "outputs": [],
   "source": [
    "from mmcv.transforms import LoadAnnotations as MMCV_LoadAnnotations"
   ]
  },
  {
   "cell_type": "code",
   "execution_count": 48,
   "metadata": {},
   "outputs": [],
   "source": [
    "# @TRANSFORMS.register_module()\n",
    "class LoadXRayAnnotations(MMCV_LoadAnnotations):\n",
    "\n",
    "    def __init__(\n",
    "        self,\n",
    "        # reduce_zero_label=None,\n",
    "        backend_args=None,\n",
    "        # imdecode_backend='pillow',\n",
    "    ) -> None:\n",
    "        super().__init__(\n",
    "            with_bbox=False,\n",
    "            with_label=False,\n",
    "            with_seg=True,\n",
    "            with_keypoints=False,\n",
    "            # imdecode_backend=imdecode_backend,\n",
    "            backend_args=backend_args)\n",
    "        # self.reduce_zero_label = reduce_zero_label\n",
    "        # if self.reduce_zero_label is not None:\n",
    "        #     warnings.warn('`reduce_zero_label` will be deprecated, '\n",
    "        #                   'if you would like to ignore the zero label, please '\n",
    "        #                   'set `reduce_zero_label=True` when dataset '\n",
    "        #                   'initialized')\n",
    "        # self.imdecode_backend = imdecode_backend\n",
    "\n",
    "        self.CLASSES = [\n",
    "            'finger-1', 'finger-2', 'finger-3', 'finger-4', 'finger-5',\n",
    "            'finger-6', 'finger-7', 'finger-8', 'finger-9', 'finger-10',\n",
    "            'finger-11', 'finger-12', 'finger-13', 'finger-14', 'finger-15',\n",
    "            'finger-16', 'finger-17', 'finger-18', 'finger-19', 'Trapezium',\n",
    "            'Trapezoid', 'Capitate', 'Hamate', 'Scaphoid', 'Lunate',\n",
    "            'Triquetrum', 'Pisiform', 'Radius', 'Ulna',\n",
    "        ]\n",
    "        self.CLASS2IND = {v: i for i, v in enumerate(self.CLASSES)}\n",
    "\n",
    "    def _load_seg_map(self, results: dict) -> None:\n",
    "\n",
    "        with open(results['seg_map_path'], \"r\") as f:\n",
    "            annotations = json.load(f)\n",
    "        annotations = annotations[\"annotations\"]\n",
    "\n",
    "        label_shape = res['img_shape'] + (len(self.CLASSES), )\n",
    "        label = np.zeros(label_shape, dtype=np.uint8)\n",
    "\n",
    "        for ann in annotations:\n",
    "            c = ann[\"label\"]\n",
    "            class_ind = self.CLASS2IND[c]\n",
    "            points = np.array(ann[\"points\"])\n",
    "            \n",
    "            # polygon 포맷을 dense한 mask 포맷으로 바꿉니다.\n",
    "            class_label = np.zeros(res['img_shape'], dtype=np.uint8)\n",
    "            cv2.fillPoly(class_label, [points], 1)\n",
    "            label[..., class_ind] = class_label\n",
    "        \n",
    "        label = label.transpose(2, 0, 1)\n",
    "\n",
    "        results['gt_seg_map'] = label\n",
    "        results['seg_fields'].append('gt_seg_map')\n",
    "\n",
    "    def __repr__(self) -> str:\n",
    "        repr_str = self.__class__.__name__\n",
    "        repr_str += f'backend_args={self.backend_args})'\n",
    "        return repr_str\n"
   ]
  },
  {
   "cell_type": "code",
   "execution_count": 49,
   "metadata": {},
   "outputs": [],
   "source": [
    "tran2 = LoadXRayAnnotations()"
   ]
  },
  {
   "cell_type": "code",
   "execution_count": 52,
   "metadata": {},
   "outputs": [
    {
     "data": {
      "text/plain": [
       "(29, 2048, 2048)"
      ]
     },
     "execution_count": 52,
     "metadata": {},
     "output_type": "execute_result"
    }
   ],
   "source": [
    "tran2.transform(res)['gt_seg_map'].shape"
   ]
  },
  {
   "cell_type": "code",
   "execution_count": null,
   "metadata": {},
   "outputs": [],
   "source": [
    "res"
   ]
  },
  {
   "cell_type": "code",
   "execution_count": 43,
   "metadata": {},
   "outputs": [
    {
     "data": {
      "text/plain": [
       "(2048, 2048, 29)"
      ]
     },
     "execution_count": 43,
     "metadata": {},
     "output_type": "execute_result"
    }
   ],
   "source": [
    "label.shape"
   ]
  },
  {
   "cell_type": "code",
   "execution_count": 42,
   "metadata": {},
   "outputs": [
    {
     "data": {
      "text/plain": [
       "458681"
      ]
     },
     "execution_count": 42,
     "metadata": {},
     "output_type": "execute_result"
    }
   ],
   "source": [
    "label.sum()"
   ]
  },
  {
   "cell_type": "code",
   "execution_count": null,
   "metadata": {},
   "outputs": [],
   "source": [
    "train_pipeline = [\n",
    "    dict(type='LoadImageFromFile'),\n",
    "    dict(type='LoadAnnotations'),\n",
    "    # dict(type='RandomCrop', crop_size=(512, 1024), cat_max_ratio=0.75),\n",
    "    # dict(type='RandomFlip', prob=0.5),\n",
    "    dict(type='PackSegInputs')\n",
    "]\n"
   ]
  },
  {
   "cell_type": "code",
   "execution_count": null,
   "metadata": {},
   "outputs": [],
   "source": [
    "dataset = XRayDataset(data_root=data_root, data_prefix=data_prefix, test_mode=False, pipeline=train_pipeline)\n"
   ]
  }
 ],
 "metadata": {
  "kernelspec": {
   "display_name": "base",
   "language": "python",
   "name": "python3"
  },
  "language_info": {
   "codemirror_mode": {
    "name": "ipython",
    "version": 3
   },
   "file_extension": ".py",
   "mimetype": "text/x-python",
   "name": "python",
   "nbconvert_exporter": "python",
   "pygments_lexer": "ipython3",
   "version": "3.10.13"
  }
 },
 "nbformat": 4,
 "nbformat_minor": 2
}
